{
 "cells": [
  {
   "cell_type": "markdown",
   "metadata": {},
   "source": [
    "# <font color=blue> Extreme Gradient Boosting </font>##"
   ]
  },
  {
   "cell_type": "markdown",
   "metadata": {},
   "source": [
    "**Importing necessary Libraries**"
   ]
  },
  {
   "cell_type": "code",
   "execution_count": 2,
   "metadata": {},
   "outputs": [],
   "source": [
    "import numpy as np\n",
    "import pandas as pd"
   ]
  },
  {
   "cell_type": "markdown",
   "metadata": {},
   "source": [
    "**Loading the dataset**"
   ]
  },
  {
   "cell_type": "code",
   "execution_count": 3,
   "metadata": {},
   "outputs": [
    {
     "data": {
      "text/html": [
       "<div>\n",
       "<style scoped>\n",
       "    .dataframe tbody tr th:only-of-type {\n",
       "        vertical-align: middle;\n",
       "    }\n",
       "\n",
       "    .dataframe tbody tr th {\n",
       "        vertical-align: top;\n",
       "    }\n",
       "\n",
       "    .dataframe thead th {\n",
       "        text-align: right;\n",
       "    }\n",
       "</style>\n",
       "<table border=\"1\" class=\"dataframe\">\n",
       "  <thead>\n",
       "    <tr style=\"text-align: right;\">\n",
       "      <th></th>\n",
       "      <th>Survived</th>\n",
       "      <th>Age</th>\n",
       "      <th>Fare</th>\n",
       "      <th>Pclass_1</th>\n",
       "      <th>Pclass_2</th>\n",
       "      <th>Pclass_3</th>\n",
       "      <th>Sex_female</th>\n",
       "      <th>Sex_male</th>\n",
       "      <th>SibSp_0</th>\n",
       "      <th>SibSp_1</th>\n",
       "      <th>...</th>\n",
       "      <th>Parch_0</th>\n",
       "      <th>Parch_1</th>\n",
       "      <th>Parch_2</th>\n",
       "      <th>Parch_3</th>\n",
       "      <th>Parch_4</th>\n",
       "      <th>Parch_5</th>\n",
       "      <th>Parch_6</th>\n",
       "      <th>Embarked_C</th>\n",
       "      <th>Embarked_Q</th>\n",
       "      <th>Embarked_S</th>\n",
       "    </tr>\n",
       "  </thead>\n",
       "  <tbody>\n",
       "    <tr>\n",
       "      <th>0</th>\n",
       "      <td>0</td>\n",
       "      <td>22.0</td>\n",
       "      <td>7.2500</td>\n",
       "      <td>0</td>\n",
       "      <td>0</td>\n",
       "      <td>1</td>\n",
       "      <td>0</td>\n",
       "      <td>1</td>\n",
       "      <td>0</td>\n",
       "      <td>1</td>\n",
       "      <td>...</td>\n",
       "      <td>1</td>\n",
       "      <td>0</td>\n",
       "      <td>0</td>\n",
       "      <td>0</td>\n",
       "      <td>0</td>\n",
       "      <td>0</td>\n",
       "      <td>0</td>\n",
       "      <td>0</td>\n",
       "      <td>0</td>\n",
       "      <td>1</td>\n",
       "    </tr>\n",
       "    <tr>\n",
       "      <th>1</th>\n",
       "      <td>1</td>\n",
       "      <td>38.0</td>\n",
       "      <td>71.2833</td>\n",
       "      <td>1</td>\n",
       "      <td>0</td>\n",
       "      <td>0</td>\n",
       "      <td>1</td>\n",
       "      <td>0</td>\n",
       "      <td>0</td>\n",
       "      <td>1</td>\n",
       "      <td>...</td>\n",
       "      <td>1</td>\n",
       "      <td>0</td>\n",
       "      <td>0</td>\n",
       "      <td>0</td>\n",
       "      <td>0</td>\n",
       "      <td>0</td>\n",
       "      <td>0</td>\n",
       "      <td>1</td>\n",
       "      <td>0</td>\n",
       "      <td>0</td>\n",
       "    </tr>\n",
       "    <tr>\n",
       "      <th>2</th>\n",
       "      <td>1</td>\n",
       "      <td>26.0</td>\n",
       "      <td>7.9250</td>\n",
       "      <td>0</td>\n",
       "      <td>0</td>\n",
       "      <td>1</td>\n",
       "      <td>1</td>\n",
       "      <td>0</td>\n",
       "      <td>1</td>\n",
       "      <td>0</td>\n",
       "      <td>...</td>\n",
       "      <td>1</td>\n",
       "      <td>0</td>\n",
       "      <td>0</td>\n",
       "      <td>0</td>\n",
       "      <td>0</td>\n",
       "      <td>0</td>\n",
       "      <td>0</td>\n",
       "      <td>0</td>\n",
       "      <td>0</td>\n",
       "      <td>1</td>\n",
       "    </tr>\n",
       "    <tr>\n",
       "      <th>3</th>\n",
       "      <td>1</td>\n",
       "      <td>35.0</td>\n",
       "      <td>53.1000</td>\n",
       "      <td>1</td>\n",
       "      <td>0</td>\n",
       "      <td>0</td>\n",
       "      <td>1</td>\n",
       "      <td>0</td>\n",
       "      <td>0</td>\n",
       "      <td>1</td>\n",
       "      <td>...</td>\n",
       "      <td>1</td>\n",
       "      <td>0</td>\n",
       "      <td>0</td>\n",
       "      <td>0</td>\n",
       "      <td>0</td>\n",
       "      <td>0</td>\n",
       "      <td>0</td>\n",
       "      <td>0</td>\n",
       "      <td>0</td>\n",
       "      <td>1</td>\n",
       "    </tr>\n",
       "    <tr>\n",
       "      <th>4</th>\n",
       "      <td>0</td>\n",
       "      <td>35.0</td>\n",
       "      <td>8.0500</td>\n",
       "      <td>0</td>\n",
       "      <td>0</td>\n",
       "      <td>1</td>\n",
       "      <td>0</td>\n",
       "      <td>1</td>\n",
       "      <td>1</td>\n",
       "      <td>0</td>\n",
       "      <td>...</td>\n",
       "      <td>1</td>\n",
       "      <td>0</td>\n",
       "      <td>0</td>\n",
       "      <td>0</td>\n",
       "      <td>0</td>\n",
       "      <td>0</td>\n",
       "      <td>0</td>\n",
       "      <td>0</td>\n",
       "      <td>0</td>\n",
       "      <td>1</td>\n",
       "    </tr>\n",
       "  </tbody>\n",
       "</table>\n",
       "<p>5 rows × 25 columns</p>\n",
       "</div>"
      ],
      "text/plain": [
       "   Survived   Age     Fare  Pclass_1  Pclass_2  Pclass_3  Sex_female  \\\n",
       "0         0  22.0   7.2500         0         0         1           0   \n",
       "1         1  38.0  71.2833         1         0         0           1   \n",
       "2         1  26.0   7.9250         0         0         1           1   \n",
       "3         1  35.0  53.1000         1         0         0           1   \n",
       "4         0  35.0   8.0500         0         0         1           0   \n",
       "\n",
       "   Sex_male  SibSp_0  SibSp_1  ...  Parch_0  Parch_1  Parch_2  Parch_3  \\\n",
       "0         1        0        1  ...        1        0        0        0   \n",
       "1         0        0        1  ...        1        0        0        0   \n",
       "2         0        1        0  ...        1        0        0        0   \n",
       "3         0        0        1  ...        1        0        0        0   \n",
       "4         1        1        0  ...        1        0        0        0   \n",
       "\n",
       "   Parch_4  Parch_5  Parch_6  Embarked_C  Embarked_Q  Embarked_S  \n",
       "0        0        0        0           0           0           1  \n",
       "1        0        0        0           1           0           0  \n",
       "2        0        0        0           0           0           1  \n",
       "3        0        0        0           0           0           1  \n",
       "4        0        0        0           0           0           1  \n",
       "\n",
       "[5 rows x 25 columns]"
      ]
     },
     "execution_count": 3,
     "metadata": {},
     "output_type": "execute_result"
    }
   ],
   "source": [
    "data = pd.read_csv('C:/Abhishek/ML-Algorithms/AV/stacking/data_cleaned.csv')\n",
    "data.head()"
   ]
  },
  {
   "cell_type": "markdown",
   "metadata": {},
   "source": [
    "**Separating Dependent & the Independent Variables**"
   ]
  },
  {
   "cell_type": "code",
   "execution_count": 4,
   "metadata": {},
   "outputs": [],
   "source": [
    "x = data.drop(['Survived'], axis = 1)\n",
    "y = data['Survived']"
   ]
  },
  {
   "cell_type": "markdown",
   "metadata": {},
   "source": [
    "**Creating the train test split**"
   ]
  },
  {
   "cell_type": "code",
   "execution_count": 5,
   "metadata": {},
   "outputs": [],
   "source": [
    "from sklearn.model_selection import train_test_split"
   ]
  },
  {
   "cell_type": "code",
   "execution_count": 19,
   "metadata": {},
   "outputs": [],
   "source": [
    "#divide into train test sets\n",
    "\n",
    "train_x,test_x,train_y,test_y = train_test_split(x,y,random_state = 101,stratify = y)"
   ]
  },
  {
   "cell_type": "markdown",
   "metadata": {},
   "source": [
    "**Install XGBoost**\n",
    "\n",
    "Use the following command in terminal or command prompt\n",
    "\n",
    "- pip install xgboost\n",
    "- conda install -c anaconda py-xgboost"
   ]
  },
  {
   "cell_type": "code",
   "execution_count": 20,
   "metadata": {},
   "outputs": [],
   "source": [
    "# Importing XGBM Classifier\n",
    "from xgboost import XGBClassifier"
   ]
  },
  {
   "cell_type": "code",
   "execution_count": 21,
   "metadata": {},
   "outputs": [],
   "source": [
    "#creating an Extreme Grading boosting instance\n",
    "clf = XGBClassifier(random_state = 96)"
   ]
  },
  {
   "cell_type": "code",
   "execution_count": 22,
   "metadata": {},
   "outputs": [
    {
     "data": {
      "text/plain": [
       "XGBClassifier(base_score=0.5, booster='gbtree', colsample_bylevel=1,\n",
       "              colsample_bynode=1, colsample_bytree=1, gamma=0, gpu_id=-1,\n",
       "              importance_type='gain', interaction_constraints='',\n",
       "              learning_rate=0.300000012, max_delta_step=0, max_depth=6,\n",
       "              min_child_weight=1, missing=nan, monotone_constraints='()',\n",
       "              n_estimators=100, n_jobs=0, num_parallel_tree=1,\n",
       "              objective='binary:logistic', random_state=96, reg_alpha=0,\n",
       "              reg_lambda=1, scale_pos_weight=1, subsample=1,\n",
       "              tree_method='exact', validate_parameters=1, verbosity=None)"
      ]
     },
     "execution_count": 22,
     "metadata": {},
     "output_type": "execute_result"
    }
   ],
   "source": [
    "#training the model\n",
    "\n",
    "clf.fit(train_x,train_y)"
   ]
  },
  {
   "cell_type": "code",
   "execution_count": 10,
   "metadata": {},
   "outputs": [
    {
     "data": {
      "text/plain": [
       "0.9775449101796407"
      ]
     },
     "execution_count": 10,
     "metadata": {},
     "output_type": "execute_result"
    }
   ],
   "source": [
    "#calculation the score on the training data\n",
    "\n",
    "clf.score(train_x,train_y)"
   ]
  },
  {
   "cell_type": "code",
   "execution_count": 23,
   "metadata": {},
   "outputs": [
    {
     "data": {
      "text/plain": [
       "0.7623318385650224"
      ]
     },
     "execution_count": 23,
     "metadata": {},
     "output_type": "execute_result"
    }
   ],
   "source": [
    "#calculating score on the test data\n",
    "clf.score(test_x,test_y)"
   ]
  },
  {
   "cell_type": "markdown",
   "metadata": {},
   "source": [
    "**Hyperparameter Tuning**\n",
    "\n",
    "Same as GBDT\n",
    "\n",
    "1. **n_estimators:** Total number of trees\n",
    "2. **learning_rate:** This determines the impact of each tree on the final column\n",
    "3. **random_state:** The random number seed so that the random number are generated everytime.\n",
    "4. **max_depth:** Maximum depth to which a tree can grow(stopping criterion).\n",
    "5. **subsample:** The fraction of observations to be selected for each tree.Selection is done by random sampling.\n",
    "6. **objective:** Defines Loss Function.\n",
    "7. **colsample_bylevel:** Random feature selection at levels\n",
    "8. **colsample_bytree:** Random feature selection at tree"
   ]
  },
  {
   "cell_type": "code",
   "execution_count": 37,
   "metadata": {},
   "outputs": [
    {
     "name": "stdout",
     "output_type": "stream",
     "text": [
      "[0]\tvalidation_0-logloss:0.55027\tvalidation_0-error:0.13623\tvalidation_1-logloss:0.57973\tvalidation_1-error:0.21076\n",
      "[1]\tvalidation_0-logloss:0.46832\tvalidation_0-error:0.11826\tvalidation_1-logloss:0.51865\tvalidation_1-error:0.19282\n",
      "[2]\tvalidation_0-logloss:0.41501\tvalidation_0-error:0.12126\tvalidation_1-logloss:0.49399\tvalidation_1-error:0.19731\n",
      "[3]\tvalidation_0-logloss:0.37918\tvalidation_0-error:0.11377\tvalidation_1-logloss:0.48084\tvalidation_1-error:0.19731\n",
      "[4]\tvalidation_0-logloss:0.34981\tvalidation_0-error:0.11078\tvalidation_1-logloss:0.47679\tvalidation_1-error:0.20179\n",
      "[5]\tvalidation_0-logloss:0.32822\tvalidation_0-error:0.11377\tvalidation_1-logloss:0.48007\tvalidation_1-error:0.20179\n",
      "[6]\tvalidation_0-logloss:0.31003\tvalidation_0-error:0.11227\tvalidation_1-logloss:0.48411\tvalidation_1-error:0.20628\n",
      "[7]\tvalidation_0-logloss:0.29420\tvalidation_0-error:0.10778\tvalidation_1-logloss:0.48256\tvalidation_1-error:0.20628\n",
      "[8]\tvalidation_0-logloss:0.28464\tvalidation_0-error:0.10329\tvalidation_1-logloss:0.49305\tvalidation_1-error:0.20628\n",
      "[9]\tvalidation_0-logloss:0.27570\tvalidation_0-error:0.10180\tvalidation_1-logloss:0.49835\tvalidation_1-error:0.20628\n",
      "[10]\tvalidation_0-logloss:0.26922\tvalidation_0-error:0.10180\tvalidation_1-logloss:0.50326\tvalidation_1-error:0.21076\n",
      "[11]\tvalidation_0-logloss:0.26184\tvalidation_0-error:0.09731\tvalidation_1-logloss:0.50508\tvalidation_1-error:0.20179\n",
      "[12]\tvalidation_0-logloss:0.25827\tvalidation_0-error:0.10180\tvalidation_1-logloss:0.50679\tvalidation_1-error:0.20179\n",
      "[13]\tvalidation_0-logloss:0.25600\tvalidation_0-error:0.10030\tvalidation_1-logloss:0.50809\tvalidation_1-error:0.20628\n",
      "[14]\tvalidation_0-logloss:0.25064\tvalidation_0-error:0.09731\tvalidation_1-logloss:0.50666\tvalidation_1-error:0.20628\n",
      "[15]\tvalidation_0-logloss:0.24315\tvalidation_0-error:0.10030\tvalidation_1-logloss:0.51007\tvalidation_1-error:0.21525\n",
      "[16]\tvalidation_0-logloss:0.23972\tvalidation_0-error:0.09431\tvalidation_1-logloss:0.50937\tvalidation_1-error:0.21076\n",
      "[17]\tvalidation_0-logloss:0.23379\tvalidation_0-error:0.08683\tvalidation_1-logloss:0.51042\tvalidation_1-error:0.20628\n",
      "[18]\tvalidation_0-logloss:0.23051\tvalidation_0-error:0.08832\tvalidation_1-logloss:0.51186\tvalidation_1-error:0.21076\n",
      "[19]\tvalidation_0-logloss:0.22615\tvalidation_0-error:0.08234\tvalidation_1-logloss:0.51496\tvalidation_1-error:0.21525\n",
      "[20]\tvalidation_0-logloss:0.22378\tvalidation_0-error:0.07934\tvalidation_1-logloss:0.51488\tvalidation_1-error:0.20628\n",
      "[21]\tvalidation_0-logloss:0.21920\tvalidation_0-error:0.08084\tvalidation_1-logloss:0.52272\tvalidation_1-error:0.21525\n",
      "[22]\tvalidation_0-logloss:0.21699\tvalidation_0-error:0.07635\tvalidation_1-logloss:0.52310\tvalidation_1-error:0.21525\n",
      "[23]\tvalidation_0-logloss:0.21379\tvalidation_0-error:0.07635\tvalidation_1-logloss:0.52379\tvalidation_1-error:0.20628\n",
      "[24]\tvalidation_0-logloss:0.20905\tvalidation_0-error:0.07335\tvalidation_1-logloss:0.52549\tvalidation_1-error:0.21076\n",
      "[25]\tvalidation_0-logloss:0.20671\tvalidation_0-error:0.07036\tvalidation_1-logloss:0.52457\tvalidation_1-error:0.21973\n",
      "[26]\tvalidation_0-logloss:0.20137\tvalidation_0-error:0.07036\tvalidation_1-logloss:0.51886\tvalidation_1-error:0.21973\n",
      "[27]\tvalidation_0-logloss:0.19794\tvalidation_0-error:0.06736\tvalidation_1-logloss:0.52356\tvalidation_1-error:0.21973\n",
      "[28]\tvalidation_0-logloss:0.19578\tvalidation_0-error:0.06736\tvalidation_1-logloss:0.52024\tvalidation_1-error:0.21973\n",
      "[29]\tvalidation_0-logloss:0.19493\tvalidation_0-error:0.06437\tvalidation_1-logloss:0.51918\tvalidation_1-error:0.21973\n",
      "[30]\tvalidation_0-logloss:0.19220\tvalidation_0-error:0.06138\tvalidation_1-logloss:0.52008\tvalidation_1-error:0.21076\n",
      "[31]\tvalidation_0-logloss:0.18846\tvalidation_0-error:0.06587\tvalidation_1-logloss:0.52708\tvalidation_1-error:0.21076\n",
      "[32]\tvalidation_0-logloss:0.18799\tvalidation_0-error:0.06437\tvalidation_1-logloss:0.52766\tvalidation_1-error:0.21076\n",
      "[33]\tvalidation_0-logloss:0.18627\tvalidation_0-error:0.06138\tvalidation_1-logloss:0.52740\tvalidation_1-error:0.21076\n",
      "[34]\tvalidation_0-logloss:0.18491\tvalidation_0-error:0.05988\tvalidation_1-logloss:0.52665\tvalidation_1-error:0.21525\n",
      "[35]\tvalidation_0-logloss:0.18249\tvalidation_0-error:0.05838\tvalidation_1-logloss:0.52757\tvalidation_1-error:0.21076\n",
      "[36]\tvalidation_0-logloss:0.18088\tvalidation_0-error:0.05838\tvalidation_1-logloss:0.53248\tvalidation_1-error:0.21076\n",
      "[37]\tvalidation_0-logloss:0.17861\tvalidation_0-error:0.05539\tvalidation_1-logloss:0.53489\tvalidation_1-error:0.21076\n",
      "[38]\tvalidation_0-logloss:0.17720\tvalidation_0-error:0.05689\tvalidation_1-logloss:0.53580\tvalidation_1-error:0.21525\n",
      "[39]\tvalidation_0-logloss:0.17465\tvalidation_0-error:0.05389\tvalidation_1-logloss:0.53660\tvalidation_1-error:0.21525\n",
      "[40]\tvalidation_0-logloss:0.17231\tvalidation_0-error:0.05239\tvalidation_1-logloss:0.53667\tvalidation_1-error:0.21525\n",
      "[41]\tvalidation_0-logloss:0.17026\tvalidation_0-error:0.04940\tvalidation_1-logloss:0.53636\tvalidation_1-error:0.21525\n",
      "[42]\tvalidation_0-logloss:0.16848\tvalidation_0-error:0.04790\tvalidation_1-logloss:0.53567\tvalidation_1-error:0.21525\n",
      "[43]\tvalidation_0-logloss:0.16661\tvalidation_0-error:0.05090\tvalidation_1-logloss:0.54005\tvalidation_1-error:0.21525\n",
      "[44]\tvalidation_0-logloss:0.16524\tvalidation_0-error:0.04790\tvalidation_1-logloss:0.54289\tvalidation_1-error:0.21525\n",
      "[45]\tvalidation_0-logloss:0.16257\tvalidation_0-error:0.04940\tvalidation_1-logloss:0.54583\tvalidation_1-error:0.21525\n",
      "[46]\tvalidation_0-logloss:0.16095\tvalidation_0-error:0.04790\tvalidation_1-logloss:0.54710\tvalidation_1-error:0.21076\n",
      "[47]\tvalidation_0-logloss:0.15849\tvalidation_0-error:0.04790\tvalidation_1-logloss:0.55078\tvalidation_1-error:0.21525\n",
      "[48]\tvalidation_0-logloss:0.15569\tvalidation_0-error:0.04491\tvalidation_1-logloss:0.55297\tvalidation_1-error:0.21076\n",
      "[49]\tvalidation_0-logloss:0.15374\tvalidation_0-error:0.04491\tvalidation_1-logloss:0.55360\tvalidation_1-error:0.21076\n",
      "[50]\tvalidation_0-logloss:0.15297\tvalidation_0-error:0.04341\tvalidation_1-logloss:0.55150\tvalidation_1-error:0.21076\n",
      "[51]\tvalidation_0-logloss:0.15132\tvalidation_0-error:0.04341\tvalidation_1-logloss:0.55458\tvalidation_1-error:0.21076\n",
      "[52]\tvalidation_0-logloss:0.14923\tvalidation_0-error:0.04192\tvalidation_1-logloss:0.55655\tvalidation_1-error:0.20628\n",
      "[53]\tvalidation_0-logloss:0.14824\tvalidation_0-error:0.04042\tvalidation_1-logloss:0.55762\tvalidation_1-error:0.20628\n",
      "[54]\tvalidation_0-logloss:0.14681\tvalidation_0-error:0.04042\tvalidation_1-logloss:0.55673\tvalidation_1-error:0.19731\n",
      "[55]\tvalidation_0-logloss:0.14611\tvalidation_0-error:0.04192\tvalidation_1-logloss:0.55903\tvalidation_1-error:0.19731\n",
      "[56]\tvalidation_0-logloss:0.14447\tvalidation_0-error:0.04042\tvalidation_1-logloss:0.56037\tvalidation_1-error:0.21076\n",
      "[57]\tvalidation_0-logloss:0.14379\tvalidation_0-error:0.03892\tvalidation_1-logloss:0.56035\tvalidation_1-error:0.20628\n",
      "[58]\tvalidation_0-logloss:0.14313\tvalidation_0-error:0.04042\tvalidation_1-logloss:0.56003\tvalidation_1-error:0.20628\n",
      "[59]\tvalidation_0-logloss:0.14091\tvalidation_0-error:0.04042\tvalidation_1-logloss:0.55961\tvalidation_1-error:0.20179\n",
      "[60]\tvalidation_0-logloss:0.13932\tvalidation_0-error:0.04042\tvalidation_1-logloss:0.56153\tvalidation_1-error:0.19731\n",
      "[61]\tvalidation_0-logloss:0.13853\tvalidation_0-error:0.04192\tvalidation_1-logloss:0.56266\tvalidation_1-error:0.19731\n",
      "[62]\tvalidation_0-logloss:0.13783\tvalidation_0-error:0.04192\tvalidation_1-logloss:0.56252\tvalidation_1-error:0.20628\n",
      "[63]\tvalidation_0-logloss:0.13632\tvalidation_0-error:0.04042\tvalidation_1-logloss:0.56146\tvalidation_1-error:0.20628\n",
      "[64]\tvalidation_0-logloss:0.13487\tvalidation_0-error:0.03892\tvalidation_1-logloss:0.56231\tvalidation_1-error:0.20628\n",
      "[65]\tvalidation_0-logloss:0.13302\tvalidation_0-error:0.03593\tvalidation_1-logloss:0.56419\tvalidation_1-error:0.21525\n",
      "[66]\tvalidation_0-logloss:0.13208\tvalidation_0-error:0.03742\tvalidation_1-logloss:0.56550\tvalidation_1-error:0.21076\n",
      "[67]\tvalidation_0-logloss:0.13090\tvalidation_0-error:0.03443\tvalidation_1-logloss:0.56479\tvalidation_1-error:0.21525\n",
      "[68]\tvalidation_0-logloss:0.12993\tvalidation_0-error:0.03593\tvalidation_1-logloss:0.56756\tvalidation_1-error:0.21525\n",
      "[69]\tvalidation_0-logloss:0.12875\tvalidation_0-error:0.03593\tvalidation_1-logloss:0.57190\tvalidation_1-error:0.21076\n",
      "[70]\tvalidation_0-logloss:0.12804\tvalidation_0-error:0.03593\tvalidation_1-logloss:0.57139\tvalidation_1-error:0.21076\n"
     ]
    },
    {
     "name": "stdout",
     "output_type": "stream",
     "text": [
      "[71]\tvalidation_0-logloss:0.12734\tvalidation_0-error:0.03742\tvalidation_1-logloss:0.57511\tvalidation_1-error:0.20628\n",
      "[72]\tvalidation_0-logloss:0.12674\tvalidation_0-error:0.03742\tvalidation_1-logloss:0.57523\tvalidation_1-error:0.21076\n",
      "[73]\tvalidation_0-logloss:0.12611\tvalidation_0-error:0.03593\tvalidation_1-logloss:0.57593\tvalidation_1-error:0.21076\n",
      "[74]\tvalidation_0-logloss:0.12511\tvalidation_0-error:0.03742\tvalidation_1-logloss:0.57512\tvalidation_1-error:0.21076\n",
      "[75]\tvalidation_0-logloss:0.12358\tvalidation_0-error:0.03443\tvalidation_1-logloss:0.57709\tvalidation_1-error:0.21076\n",
      "[76]\tvalidation_0-logloss:0.12320\tvalidation_0-error:0.03443\tvalidation_1-logloss:0.57796\tvalidation_1-error:0.21076\n",
      "[77]\tvalidation_0-logloss:0.12264\tvalidation_0-error:0.03443\tvalidation_1-logloss:0.57895\tvalidation_1-error:0.21525\n",
      "[78]\tvalidation_0-logloss:0.12150\tvalidation_0-error:0.03593\tvalidation_1-logloss:0.58152\tvalidation_1-error:0.21525\n",
      "[79]\tvalidation_0-logloss:0.12064\tvalidation_0-error:0.03443\tvalidation_1-logloss:0.58579\tvalidation_1-error:0.21525\n",
      "[80]\tvalidation_0-logloss:0.11908\tvalidation_0-error:0.03144\tvalidation_1-logloss:0.58706\tvalidation_1-error:0.21525\n",
      "[81]\tvalidation_0-logloss:0.11835\tvalidation_0-error:0.03144\tvalidation_1-logloss:0.58617\tvalidation_1-error:0.21525\n",
      "[82]\tvalidation_0-logloss:0.11761\tvalidation_0-error:0.03293\tvalidation_1-logloss:0.58812\tvalidation_1-error:0.21076\n",
      "[83]\tvalidation_0-logloss:0.11648\tvalidation_0-error:0.03144\tvalidation_1-logloss:0.58857\tvalidation_1-error:0.21076\n",
      "[84]\tvalidation_0-logloss:0.11568\tvalidation_0-error:0.03293\tvalidation_1-logloss:0.58967\tvalidation_1-error:0.21076\n",
      "[85]\tvalidation_0-logloss:0.11478\tvalidation_0-error:0.02994\tvalidation_1-logloss:0.58982\tvalidation_1-error:0.21525\n",
      "[86]\tvalidation_0-logloss:0.11383\tvalidation_0-error:0.02695\tvalidation_1-logloss:0.58905\tvalidation_1-error:0.22870\n",
      "[87]\tvalidation_0-logloss:0.11270\tvalidation_0-error:0.02844\tvalidation_1-logloss:0.58693\tvalidation_1-error:0.22421\n",
      "[88]\tvalidation_0-logloss:0.11174\tvalidation_0-error:0.02545\tvalidation_1-logloss:0.58978\tvalidation_1-error:0.23318\n",
      "[89]\tvalidation_0-logloss:0.11095\tvalidation_0-error:0.02695\tvalidation_1-logloss:0.59225\tvalidation_1-error:0.22421\n",
      "[90]\tvalidation_0-logloss:0.10979\tvalidation_0-error:0.02545\tvalidation_1-logloss:0.59364\tvalidation_1-error:0.22421\n",
      "[91]\tvalidation_0-logloss:0.10932\tvalidation_0-error:0.02545\tvalidation_1-logloss:0.59377\tvalidation_1-error:0.22421\n",
      "[92]\tvalidation_0-logloss:0.10869\tvalidation_0-error:0.02395\tvalidation_1-logloss:0.59389\tvalidation_1-error:0.23318\n",
      "[93]\tvalidation_0-logloss:0.10807\tvalidation_0-error:0.02545\tvalidation_1-logloss:0.59262\tvalidation_1-error:0.23318\n",
      "[94]\tvalidation_0-logloss:0.10722\tvalidation_0-error:0.02395\tvalidation_1-logloss:0.59374\tvalidation_1-error:0.23318\n",
      "[95]\tvalidation_0-logloss:0.10684\tvalidation_0-error:0.02395\tvalidation_1-logloss:0.59347\tvalidation_1-error:0.23767\n",
      "[96]\tvalidation_0-logloss:0.10614\tvalidation_0-error:0.02245\tvalidation_1-logloss:0.59611\tvalidation_1-error:0.23767\n",
      "[97]\tvalidation_0-logloss:0.10535\tvalidation_0-error:0.02245\tvalidation_1-logloss:0.59817\tvalidation_1-error:0.23767\n",
      "[98]\tvalidation_0-logloss:0.10519\tvalidation_0-error:0.02395\tvalidation_1-logloss:0.59753\tvalidation_1-error:0.23767\n",
      "[99]\tvalidation_0-logloss:0.10495\tvalidation_0-error:0.02245\tvalidation_1-logloss:0.59610\tvalidation_1-error:0.23767\n",
      "Accuracy: 76.23%\n"
     ]
    },
    {
     "data": {
      "image/png": "[encoded data removed]",
      "text/plain": [
       "<Figure size 432x288 with 1 Axes>"
      ]
     },
     "metadata": {
      "needs_background": "light"
     },
     "output_type": "display_data"
    },
    {
     "data": {
      "image/png": "[encoded data removed]",
      "text/plain": [
       "<Figure size 432x288 with 1 Axes>"
      ]
     },
     "metadata": {
      "needs_background": "light"
     },
     "output_type": "display_data"
    }
   ],
   "source": [
    "from matplotlib import pyplot\n",
    "from sklearn.metrics import accuracy_score\n",
    "\n",
    "#fit model no training data\n",
    "\n",
    "eval_set = [(train_x,train_y), (test_x,test_y)]\n",
    "eval_metric = [\"logloss\",\"error\"]\n",
    "clf.fit(train_x,train_y, eval_metric=eval_metric, eval_set=eval_set, verbose=True)\n",
    "\n",
    "#make predictions for test data\n",
    "y_pred = clf.predict(test_x)\n",
    "predictions = [round(value) for value in y_pred]\n",
    "\n",
    "# evaluate predictions\n",
    "accuracy = accuracy_score(test_y, predictions)\n",
    "print(\"Accuracy: %.2f%%\" % (accuracy * 100.0))\n",
    "\n",
    "# retrieve performance metrics\n",
    "results = clf.evals_result()\n",
    "epochs = len(results['validation_0']['error'])\n",
    "x_axis = range(0, epochs)\n",
    "\n",
    "# plot auc\n",
    "fig, ax = pyplot.subplots()\n",
    "ax.plot(x_axis, results['validation_0']['logloss'], label='Train')\n",
    "ax.plot(x_axis, results['validation_1']['logloss'], label='Test')\n",
    "ax.legend()\n",
    "pyplot.ylabel('logloss')\n",
    "pyplot.title('XGBoost logloss')\n",
    "pyplot.show()\n",
    "\n",
    "# plot classification error\n",
    "fig, ax = pyplot.subplots()\n",
    "ax.plot(x_axis, results['validation_0']['error'], label='Train')\n",
    "ax.plot(x_axis, results['validation_1']['error'], label='Test')\n",
    "ax.legend()\n",
    "pyplot.ylabel('Classification Error')\n",
    "pyplot.title('XGBoost Classification Error')\n",
    "pyplot.show()"
   ]
  },
  {
   "cell_type": "markdown",
   "metadata": {},
   "source": [
    "**Early Stopping with XGBoost** \n",
    "\n",
    "\n",
    "XGBoost supports early stopping after a fixed number of iterations.\n",
    "\n",
    "In addition to specifying a metric and test dataset for evaluation each epoch, you must specify a window of the number of epochs over which no improvement is observed. This is specified in the early_stopping_rounds parameter.\n",
    "\n",
    "For example, we can check for no improvement in logarithmic loss over the 10 epochs as follows:"
   ]
  },
  {
   "cell_type": "code",
   "execution_count": 54,
   "metadata": {},
   "outputs": [
    {
     "name": "stdout",
     "output_type": "stream",
     "text": [
      "[14:58:59] WARNING: C:\\Users\\Administrator\\workspace\\xgboost-win64_release_1.1.0\\src\\learner.cc:480: \n",
      "Parameters: { colsample_by_tree } might not be used.\n",
      "\n",
      "  This may not be accurate due to some parameters are only used in language bindings but\n",
      "  passed down to XGBoost core.  Or some parameters are not used but slip through this\n",
      "  verification. Please open an issue if you find above cases.\n",
      "\n",
      "\n",
      "[0]\tvalidation_0-logloss:0.57973\n",
      "Will train until validation_0-logloss hasn't improved in 10 rounds.\n",
      "[1]\tvalidation_0-logloss:0.51865\n",
      "[2]\tvalidation_0-logloss:0.49399\n",
      "[3]\tvalidation_0-logloss:0.48084\n",
      "[4]\tvalidation_0-logloss:0.47679\n",
      "[5]\tvalidation_0-logloss:0.48007\n",
      "[6]\tvalidation_0-logloss:0.48411\n",
      "[7]\tvalidation_0-logloss:0.48256\n",
      "[8]\tvalidation_0-logloss:0.49305\n",
      "[9]\tvalidation_0-logloss:0.49835\n",
      "[10]\tvalidation_0-logloss:0.50326\n",
      "[11]\tvalidation_0-logloss:0.50508\n",
      "[12]\tvalidation_0-logloss:0.50679\n",
      "[13]\tvalidation_0-logloss:0.50809\n",
      "[14]\tvalidation_0-logloss:0.50666\n",
      "Stopping. Best iteration:\n",
      "[4]\tvalidation_0-logloss:0.47679\n",
      "\n"
     ]
    },
    {
     "data": {
      "text/plain": [
       "XGBClassifier(base_score=0.5, booster='gbtree', colsample_by_tree=0.7,\n",
       "              colsample_bylevel=1, colsample_bynode=1, colsample_bytree=1,\n",
       "              gamma=0, gpu_id=-1, importance_type='gain',\n",
       "              interaction_constraints='', learning_rate=0.300000012,\n",
       "              max_delta_step=0, max_depth=6, min_child_weight=1, missing=nan,\n",
       "              monotone_constraints='()', n_estimators=100, n_jobs=0,\n",
       "              num_parallel_tree=1, objective='binary:logistic', random_state=96,\n",
       "              reg_alpha=0, reg_lambda=1, scale_pos_weight=1, subsample=1,\n",
       "              tree_method='exact', validate_parameters=1, verbosity=None)"
      ]
     },
     "execution_count": 54,
     "metadata": {},
     "output_type": "execute_result"
    }
   ],
   "source": [
    "eval_set = [(test_x, test_y)]\n",
    "clf.fit(train_x,train_y, early_stopping_rounds=10, eval_metric=\"logloss\", eval_set=eval_set, verbose=True)"
   ]
  },
  {
   "cell_type": "code",
   "execution_count": 59,
   "metadata": {},
   "outputs": [
    {
     "name": "stdout",
     "output_type": "stream",
     "text": [
      "Accuracy: 79.82%\n"
     ]
    }
   ],
   "source": [
    "y_pred = clf.predict(test_x)\n",
    "predictions = [round(value) for value in y_pred]\n",
    "# evaluate predictions\n",
    "accuracy = accuracy_score(test_y, predictions)\n",
    "print(\"Accuracy: %.2f%%\" % (accuracy * 100.0))"
   ]
  },
  {
   "cell_type": "markdown",
   "metadata": {},
   "source": [
    "**Regularisation**\n",
    "\n",
    "1. **gamma :** Minimum reduction in loss at every split\n",
    "2. **Reg_alpha :** Makes leaf weights 0\n",
    "3. **Reg_lambda :** Decreases leaf weights more smoothly\n"
   ]
  },
  {
   "cell_type": "code",
   "execution_count": 74,
   "metadata": {},
   "outputs": [
    {
     "data": {
      "text/plain": [
       "XGBClassifier(base_score=0.5, booster='gbtree', colsample_bylevel=1,\n",
       "              colsample_bynode=1, colsample_bytree=1, gamma=0.5, gpu_id=-1,\n",
       "              importance_type='gain', interaction_constraints='',\n",
       "              learning_rate=0.300000012, max_delta_step=0, max_depth=6,\n",
       "              min_child_weight=1, missing=nan, monotone_constraints='()',\n",
       "              n_estimators=100, n_jobs=0, num_parallel_tree=1,\n",
       "              objective='binary:logistic', random_state=96, reg_alpha=0,\n",
       "              reg_lambda=1, scale_pos_weight=1, subsample=1,\n",
       "              tree_method='exact', validate_parameters=1, verbosity=None)"
      ]
     },
     "execution_count": 74,
     "metadata": {},
     "output_type": "execute_result"
    }
   ],
   "source": [
    "#training the model\n",
    "\n",
    "clf = XGBClassifier(gamma = 0.5,random_state = 96)\n",
    "\n",
    "clf.fit(train_x,train_y)"
   ]
  },
  {
   "cell_type": "code",
   "execution_count": 75,
   "metadata": {},
   "outputs": [
    {
     "data": {
      "text/plain": [
       "0.8071748878923767"
      ]
     },
     "execution_count": 75,
     "metadata": {},
     "output_type": "execute_result"
    }
   ],
   "source": [
    "#calculating score on the test data\n",
    "clf.score(test_x,test_y)"
   ]
  },
  {
   "cell_type": "code",
   "execution_count": null,
   "metadata": {},
   "outputs": [],
   "source": []
  }
 ],
 "metadata": {
  "kernelspec": {
   "display_name": "Python 3",
   "language": "python",
   "name": "python3"
  },
  "language_info": {
   "codemirror_mode": {
    "name": "ipython",
    "version": 3
   },
   "file_extension": ".py",
   "mimetype": "text/x-python",
   "name": "python",
   "nbconvert_exporter": "python",
   "pygments_lexer": "ipython3",
   "version": "3.7.6"
  }
 },
 "nbformat": 4,
 "nbformat_minor": 4
}
